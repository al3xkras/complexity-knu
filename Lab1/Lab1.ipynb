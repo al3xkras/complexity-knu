{
 "cells": [
  {
   "cell_type": "code",
   "execution_count": 1,
   "id": "3bbd195a",
   "metadata": {},
   "outputs": [],
   "source": [
    "import numpy as np"
   ]
  },
  {
   "cell_type": "markdown",
   "id": "2b5d5704",
   "metadata": {},
   "source": [
    "![](images/1.png)"
   ]
  },
  {
   "cell_type": "markdown",
   "id": "5ee1cfee",
   "metadata": {},
   "source": [
    "![](images/2.png)"
   ]
  },
  {
   "cell_type": "markdown",
   "id": "72626a6b",
   "metadata": {},
   "source": [
    "![](images/3.png)"
   ]
  },
  {
   "cell_type": "markdown",
   "id": "bed06fdd",
   "metadata": {},
   "source": [
    "![](images/4.png)"
   ]
  },
  {
   "cell_type": "markdown",
   "id": "a7f3c046",
   "metadata": {},
   "source": [
    "![](images/5.png)"
   ]
  },
  {
   "cell_type": "markdown",
   "id": "58e5dbf4",
   "metadata": {},
   "source": [
    "![](images/6.png)"
   ]
  },
  {
   "cell_type": "markdown",
   "id": "36eb2b98",
   "metadata": {},
   "source": [
    "![](images/7.png)"
   ]
  },
  {
   "cell_type": "markdown",
   "id": "6b4e95a4",
   "metadata": {},
   "source": [
    "![](images/8.png)"
   ]
  },
  {
   "cell_type": "code",
   "execution_count": null,
   "id": "16e757f1",
   "metadata": {},
   "outputs": [],
   "source": []
  }
 ],
 "metadata": {
  "kernelspec": {
   "display_name": "Python 3 (ipykernel)",
   "language": "python",
   "name": "python3"
  },
  "language_info": {
   "codemirror_mode": {
    "name": "ipython",
    "version": 3
   },
   "file_extension": ".py",
   "mimetype": "text/x-python",
   "name": "python",
   "nbconvert_exporter": "python",
   "pygments_lexer": "ipython3",
   "version": "3.10.7"
  }
 },
 "nbformat": 4,
 "nbformat_minor": 5
}
